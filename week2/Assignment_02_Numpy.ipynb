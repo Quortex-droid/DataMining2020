{
 "cells": [
  {
   "cell_type": "markdown",
   "metadata": {},
   "source": [
    "# Assignment: Numpy"
   ]
  },
  {
   "cell_type": "markdown",
   "metadata": {},
   "source": [
    "Perform the follwing tasks:\n"
   ]
  },
  {
   "cell_type": "code",
   "execution_count": 1,
   "metadata": {},
   "outputs": [],
   "source": [
    "#1: import the numpy library\n",
    "import numpy as np\n",
    "import matplotlib.pyplot as plt"
   ]
  },
  {
   "cell_type": "code",
   "execution_count": 2,
   "metadata": {},
   "outputs": [
    {
     "name": "stdout",
     "output_type": "stream",
     "text": [
      "[[ 0.45297874  1.36973244 -0.85644223 -0.63339198 -0.34060591  1.21030415\n",
      "   0.59336372  0.72531977 -0.20438552  1.20582067]\n",
      " [-1.10097433 -0.08655696 -1.70187834  0.19432588 -2.68424409  1.23767087\n",
      "  -1.09818493 -0.46692985 -1.35956376  0.16355874]\n",
      " [-0.18556616  1.17848877  0.93318409  0.37698583 -1.2850546  -0.27517267\n",
      "   0.33248705  0.37397385  1.10898402 -1.68141497]\n",
      " [ 1.31141095  0.42298635  1.01901435  1.01964846  0.34826972 -0.01985093\n",
      "  -1.60169947  0.59227914  0.24654078 -0.67003277]\n",
      " [ 0.97956446  1.1691204  -1.28835172 -0.54216829 -0.51512932 -0.85721207\n",
      "   0.10768381 -0.30813032  0.42262447 -0.4413534 ]\n",
      " [ 0.56578149 -0.68070002 -0.44700116 -1.79786595 -0.19319154 -0.06758876\n",
      "   2.22225329  1.3187961  -0.23971128 -0.77619266]\n",
      " [ 1.32788704 -0.21482582 -0.21109947  0.01281972  0.156808   -0.15301083\n",
      "   1.25228372 -2.37593896  0.24092758  0.71534233]\n",
      " [-0.68916157 -0.48325302  1.53120894  0.17557931  0.18408195  1.67876926\n",
      "  -0.16197938 -2.54650754 -0.17907072  0.05780422]\n",
      " [-0.09175419  0.66165752 -0.31499134 -0.90330635  1.06861596 -1.96952919\n",
      "   2.53632513 -1.12160029 -0.21297099 -0.10024681]\n",
      " [ 0.2195112  -0.34198679  0.35956981  0.67712827  0.86896859  0.14510972\n",
      "  -0.95785332  0.22899766  0.10584905  0.40068151]]\n"
     ]
    }
   ],
   "source": [
    "#2: create a random 10x10 array named A\n",
    "A = np.random.randn(10,10)\n",
    "print(A)"
   ]
  },
  {
   "cell_type": "code",
   "execution_count": 3,
   "metadata": {},
   "outputs": [
    {
     "data": {
      "text/plain": [
       "array([[-1.10097433, -0.08655696, -1.70187834,  0.19432588, -2.68424409,\n",
       "         1.23767087, -1.09818493, -0.46692985, -1.35956376,  0.16355874],\n",
       "       [ 1.31141095,  0.42298635,  1.01901435,  1.01964846,  0.34826972,\n",
       "        -0.01985093, -1.60169947,  0.59227914,  0.24654078, -0.67003277],\n",
       "       [ 0.56578149, -0.68070002, -0.44700116, -1.79786595, -0.19319154,\n",
       "        -0.06758876,  2.22225329,  1.3187961 , -0.23971128, -0.77619266],\n",
       "       [-0.68916157, -0.48325302,  1.53120894,  0.17557931,  0.18408195,\n",
       "         1.67876926, -0.16197938, -2.54650754, -0.17907072,  0.05780422],\n",
       "       [ 0.2195112 , -0.34198679,  0.35956981,  0.67712827,  0.86896859,\n",
       "         0.14510972, -0.95785332,  0.22899766,  0.10584905,  0.40068151]])"
      ]
     },
     "execution_count": 3,
     "metadata": {},
     "output_type": "execute_result"
    }
   ],
   "source": [
    "#3: return only the odd rows of A\n",
    "     \n",
    "A[1::2]            "
   ]
  },
  {
   "cell_type": "code",
   "execution_count": 4,
   "metadata": {},
   "outputs": [
    {
     "data": {
      "text/plain": [
       "matrix([[ 7.17083011e+00,  2.61422688e+00, -1.18879554e+00,\n",
       "         -1.86692037e+00,  1.85170791e+00,  2.21769157e+00,\n",
       "          7.44025963e-02, -2.26442738e+00, -4.26963343e-01,\n",
       "         -1.16692667e+00],\n",
       "        [ 2.61422688e+00,  1.61899832e+01, -6.26279921e-01,\n",
       "         -2.93831465e+00,  6.08222535e-01, -2.57498191e+00,\n",
       "         -2.16830424e+00,  1.43224546e+00, -6.89025989e+00,\n",
       "         -1.97876043e+00],\n",
       "        [-1.18879554e+00, -6.26279921e-01,  8.47071270e+00,\n",
       "          2.23733449e+00,  1.81856556e+00,  5.36100346e-01,\n",
       "         -2.25891837e+00, -9.47001943e-01, -3.12744276e-01,\n",
       "         -1.79871284e+00],\n",
       "        [-1.86692037e+00, -2.93831465e+00,  2.23733449e+00,\n",
       "          7.52443726e+00, -2.03984764e-01, -4.21789827e+00,\n",
       "         -2.32676124e+00, -6.69725327e-01, -5.38329583e+00,\n",
       "          2.92725818e+00],\n",
       "        [ 1.85170791e+00,  6.08222535e-01,  1.81856556e+00,\n",
       "         -2.03984764e-01,  5.76030076e+00,  1.54070336e+00,\n",
       "          2.01805258e+00, -4.17585376e+00,  3.29002835e+00,\n",
       "         -1.89300338e+00],\n",
       "        [ 2.21769157e+00, -2.57498191e+00,  5.36100346e-01,\n",
       "         -4.21789827e+00,  1.54070336e+00,  1.15950538e+01,\n",
       "         -1.45967012e-02, -4.93033913e+00,  5.47524974e+00,\n",
       "         -3.36178411e+00],\n",
       "        [ 7.44025963e-02, -2.16830424e+00, -2.25891837e+00,\n",
       "         -2.32676124e+00,  2.01805258e+00, -1.45967012e-02,\n",
       "          9.68522374e+00,  4.48540472e+00,  5.97789198e+00,\n",
       "         -1.01967504e+00],\n",
       "        [-2.26442738e+00,  1.43224546e+00, -9.47001943e-01,\n",
       "         -6.69725327e-01, -4.17585376e+00, -4.93033913e+00,\n",
       "          4.48540472e+00,  1.24824041e+01, -1.52943273e+00,\n",
       "          6.63235692e-01],\n",
       "        [-4.26963343e-01, -6.89025989e+00, -3.12744276e-01,\n",
       "         -5.38329583e+00,  3.29002835e+00,  5.47524974e+00,\n",
       "          5.97789198e+00, -1.52943273e+00,  1.41287151e+01,\n",
       "         -3.07752007e+00],\n",
       "        [-1.16692667e+00, -1.97876043e+00, -1.79871284e+00,\n",
       "          2.92725818e+00, -1.89300338e+00, -3.36178411e+00,\n",
       "         -1.01967504e+00,  6.63235692e-01, -3.07752007e+00,\n",
       "          2.67076912e+00]])"
      ]
     },
     "execution_count": 4,
     "metadata": {},
     "output_type": "execute_result"
    }
   ],
   "source": [
    "#4: perform a matrix multiplication of A with it's transposed\n",
    "A2 = np.matrix(A)\n",
    "A2 * A2.T"
   ]
  },
  {
   "cell_type": "code",
   "execution_count": 5,
   "metadata": {},
   "outputs": [
    {
     "data": {
      "text/plain": [
       "array([[ 0.0343192 , -0.04139804, -0.16176882,  0.4196614 , -0.03045859,\n",
       "         0.08848657,  0.26563582, -0.09612053, -0.10935362, -0.41332707],\n",
       "       [ 0.3115424 ,  0.03617379,  0.09800971,  0.17949464,  0.11898986,\n",
       "        -0.13496963, -0.1941609 ,  0.11865512,  0.26963573,  0.02570243],\n",
       "       [-0.0604195 , -0.59850867, -0.57152115,  0.54904489, -0.63107883,\n",
       "        -0.57745278, -0.01470686, -0.16087556, -0.39535543, -2.91727096],\n",
       "       [ 0.16014527,  0.77511125,  0.93951492, -0.16966961, -0.21090255,\n",
       "         0.44411174,  0.35173651, -0.08623346,  0.65542366,  3.03697082],\n",
       "       [ 0.11439544,  0.28507963,  0.33197074, -0.2414829 ,  0.43838553,\n",
       "         0.47132586, -0.21461156,  0.35937329,  0.4968781 ,  2.38017465],\n",
       "       [ 0.28618095,  0.41381326,  0.53587182, -0.27243056,  0.2867624 ,\n",
       "         0.58459975, -0.01473912,  0.40564523,  0.22274038,  2.23486714],\n",
       "       [ 0.18358353,  0.33039137,  0.53061186, -0.17276846, -0.23166232,\n",
       "         0.37383217,  0.25116233, -0.03180018,  0.39060563,  1.37331001],\n",
       "       [ 0.09956682, -0.01764807,  0.05524432,  0.0357222 , -0.21099621,\n",
       "         0.07012419, -0.06493749, -0.20364564, -0.03419669,  0.0393141 ],\n",
       "       [-0.08683325, -0.36244577,  0.28063933, -0.69591709,  0.36663227,\n",
       "        -0.09163563,  0.11787912, -0.0372589 , -0.48689187,  0.32264618],\n",
       "       [ 0.08385497, -0.59170935, -0.65384231,  0.09009882, -0.54367344,\n",
       "        -0.75208979,  0.18470084, -0.43204828, -0.53911686, -2.56627629]])"
      ]
     },
     "execution_count": 5,
     "metadata": {},
     "output_type": "execute_result"
    }
   ],
   "source": [
    "#5: compute the matrix inverse of A\n",
    "np.linalg.inv(A)"
   ]
  },
  {
   "cell_type": "code",
   "execution_count": 6,
   "metadata": {},
   "outputs": [
    {
     "name": "stdout",
     "output_type": "stream",
     "text": [
      "[[False  True False False False  True  True  True False  True]\n",
      " [False False False False False  True False False False False]\n",
      " [False  True  True False False False False False  True False]\n",
      " [ True False  True  True False False False  True False False]\n",
      " [ True  True False False False False False False False False]\n",
      " [ True False False False False False  True  True False False]\n",
      " [ True False False False False False  True False False  True]\n",
      " [False False  True False False  True False False False False]\n",
      " [False  True False False  True False  True False False False]\n",
      " [False False False  True  True False False False False False]]\n",
      "[[ 0.45297874  1.36973244 -0.85644223 -0.63339198 -0.34060591  1.21030415\n",
      "   0.59336372  0.72531977 -0.20438552  1.20582067]\n",
      " [-1.10097433 -0.08655696 -1.70187834  0.19432588 -2.68424409  1.23767087\n",
      "  -1.09818493 -0.46692985 -1.35956376  0.16355874]\n",
      " [-0.18556616  1.17848877  0.93318409  0.37698583 -1.2850546  -0.27517267\n",
      "   0.33248705  0.37397385  1.10898402 -1.68141497]\n",
      " [ 1.31141095  0.42298635  1.01901435  1.01964846  0.34826972 -0.01985093\n",
      "  -1.60169947  0.59227914  0.24654078 -0.67003277]\n",
      " [ 0.97956446  1.1691204  -1.28835172 -0.54216829 -0.51512932 -0.85721207\n",
      "   0.10768381 -0.30813032  0.42262447 -0.4413534 ]\n",
      " [ 0.56578149 -0.68070002 -0.44700116 -1.79786595 -0.19319154 -0.06758876\n",
      "   2.22225329  1.3187961  -0.23971128 -0.77619266]\n",
      " [ 1.32788704 -0.21482582 -0.21109947  0.01281972  0.156808   -0.15301083\n",
      "   1.25228372 -2.37593896  0.24092758  0.71534233]\n",
      " [-0.68916157 -0.48325302  1.53120894  0.17557931  0.18408195  1.67876926\n",
      "  -0.16197938 -2.54650754 -0.17907072  0.05780422]\n",
      " [-0.09175419  0.66165752 -0.31499134 -0.90330635  1.06861596 -1.96952919\n",
      "   2.53632513 -1.12160029 -0.21297099 -0.10024681]\n",
      " [ 0.2195112  -0.34198679  0.35956981  0.67712827  0.86896859  0.14510972\n",
      "  -0.95785332  0.22899766  0.10584905  0.40068151]]\n",
      "[[ 0.45297874  0.68486622 -0.85644223 -0.63339198 -0.34060591  0.60515207\n",
      "   0.29668186  0.36265989 -0.20438552  0.60291034]\n",
      " [-1.10097433 -0.08655696 -1.70187834  0.19432588 -2.68424409  0.61883543\n",
      "  -1.09818493 -0.46692985 -1.35956376  0.16355874]\n",
      " [-0.18556616  0.58924438  0.46659205  0.37698583 -1.2850546  -0.27517267\n",
      "   0.33248705  0.37397385  0.55449201 -1.68141497]\n",
      " [ 0.65570548  0.42298635  0.50950718  0.50982423  0.34826972 -0.01985093\n",
      "  -1.60169947  0.29613957  0.24654078 -0.67003277]\n",
      " [ 0.48978223  0.5845602  -1.28835172 -0.54216829 -0.51512932 -0.85721207\n",
      "   0.10768381 -0.30813032  0.42262447 -0.4413534 ]\n",
      " [ 0.28289075 -0.68070002 -0.44700116 -1.79786595 -0.19319154 -0.06758876\n",
      "   1.11112665  0.65939805 -0.23971128 -0.77619266]\n",
      " [ 0.66394352 -0.21482582 -0.21109947  0.01281972  0.156808   -0.15301083\n",
      "   0.62614186 -2.37593896  0.24092758  0.35767116]\n",
      " [-0.68916157 -0.48325302  0.76560447  0.17557931  0.18408195  0.83938463\n",
      "  -0.16197938 -2.54650754 -0.17907072  0.05780422]\n",
      " [-0.09175419  0.33082876 -0.31499134 -0.90330635  0.53430798 -1.96952919\n",
      "   1.26816256 -1.12160029 -0.21297099 -0.10024681]\n",
      " [ 0.2195112  -0.34198679  0.35956981  0.33856413  0.4344843   0.14510972\n",
      "  -0.95785332  0.22899766  0.10584905  0.40068151]]\n"
     ]
    }
   ],
   "source": [
    "#6: divide all entries of A which are lager than 0.5 by 2 (hint: use where() )\n",
    "mask = (0.5 < A)\n",
    "#print(mask)\n",
    "indices = np.where(mask)\n",
    "#print(A)\n",
    "A[indices] = A[indices]/2\n",
    "print (A)"
   ]
  },
  {
   "cell_type": "code",
   "execution_count": 15,
   "metadata": {},
   "outputs": [
    {
     "data": {
      "text/plain": [
       "array([[ 1.17942442e-01,  4.85152075e-02, -9.38063218e-01,\n",
       "        -4.97352739e-01, -2.33277048e-01,  5.86092267e-03,\n",
       "         7.35616833e-02,  4.71216288e-01, -3.78483392e-01,\n",
       "         5.84779920e-01],\n",
       "       [-9.86085619e-01,  7.72231834e-02, -1.75480427e+00,\n",
       "         2.09365446e-01, -2.72790902e+00,  8.70688542e-01,\n",
       "        -9.74150161e-01, -5.00813369e-01, -1.15935112e+00,\n",
       "         1.76030648e-01],\n",
       "       [-3.36210902e-01,  3.94281142e-01,  4.27433405e-01,\n",
       "         2.79809871e-01, -1.15107689e+00, -4.70822508e-01,\n",
       "         1.21278522e-01,  3.81533996e-01,  4.05216403e-01,\n",
       "        -1.80105187e+00],\n",
       "       [ 3.31156681e-01,  5.17226293e-01,  4.87903318e-01,\n",
       "         1.01315251e+00,  2.15880165e-01, -1.53696620e-01,\n",
       "        -1.16526892e+00,  4.39480181e-01,  4.93922139e-01,\n",
       "        -2.80734729e-01],\n",
       "       [ 3.60816083e-01,  6.95262964e-01, -1.09059658e+00,\n",
       "        -3.54579156e-01, -5.62195799e-01, -1.11431177e+00,\n",
       "         2.34477494e-01, -2.25044181e-01,  7.52324989e-02,\n",
       "        -2.71697897e-01],\n",
       "       [-1.56744198e-01, -3.31067920e-01, -3.73336054e-01,\n",
       "        -1.33806236e+00, -2.48362303e-01, -2.12422889e-01,\n",
       "         1.55026217e+00,  8.06342148e-01, -2.23935127e-01,\n",
       "        -3.91295638e-01],\n",
       "       [ 3.50684584e-02, -5.52935664e-02, -1.35090723e-01,\n",
       "        -7.10163542e-02,  3.76844852e-01, -4.93300572e-01,\n",
       "         4.70895722e-01, -2.30332561e+00, -9.73717426e-03,\n",
       "         4.11864740e-01],\n",
       "       [-6.71075513e-01, -6.45100976e-01,  7.85612138e-01,\n",
       "         5.03635278e-01,  6.16682516e-02,  6.67086514e-01,\n",
       "         4.59238584e-02, -2.46442339e+00, -2.02539427e-01,\n",
       "         2.24097327e-01],\n",
       "       [ 4.36457893e-01,  2.94739418e-01, -5.23008006e-01,\n",
       "        -9.06969775e-01,  4.03487739e-01, -1.43778408e+00,\n",
       "         1.40869299e+00, -1.22992224e+00,  2.67629075e-01,\n",
       "        -2.17439381e-01],\n",
       "       [ 1.64076691e-01,  5.43767977e-04,  3.17947711e-01,\n",
       "         5.12318194e-01,  4.87736574e-01,  3.39303760e-01,\n",
       "        -7.15302820e-01,  2.39530293e-01,  8.72428423e-02,\n",
       "         4.32710151e-01]])"
      ]
     },
     "execution_count": 15,
     "metadata": {},
     "output_type": "execute_result"
    },
    {
     "data": {
      "image/png": "[encoded data removed]",
      "text/plain": [
       "<Figure size 432x288 with 1 Axes>"
      ]
     },
     "metadata": {
      "needs_background": "light"
     },
     "output_type": "display_data"
    }
   ],
   "source": [
    "#print(A)\n",
    "#7: compute the singular value decomposition of A\n",
    "U,S,V = np.linalg.svd(A)\n",
    "#print (S)\n",
    "#7.1: plot the singular values\n",
    "plt.plot(S)\n",
    "#7.2: reconstruct A' by using only the top 5 singular values\n",
    "np.dot(U[:,:5]*S[:5],V[:5,:])"
   ]
  },
  {
   "cell_type": "code",
   "execution_count": null,
   "metadata": {},
   "outputs": [],
   "source": []
  },
  {
   "cell_type": "code",
   "execution_count": null,
   "metadata": {},
   "outputs": [],
   "source": []
  },
  {
   "cell_type": "code",
   "execution_count": null,
   "metadata": {},
   "outputs": [],
   "source": []
  }
 ],
 "metadata": {
  "kernelspec": {
   "display_name": "Python 3",
   "language": "python",
   "name": "python3"
  },
  "language_info": {
   "codemirror_mode": {
    "name": "ipython",
    "version": 3
   },
   "file_extension": ".py",
   "mimetype": "text/x-python",
   "name": "python",
   "nbconvert_exporter": "python",
   "pygments_lexer": "ipython3",
   "version": "3.8.3"
  }
 },
 "nbformat": 4,
 "nbformat_minor": 4
}
